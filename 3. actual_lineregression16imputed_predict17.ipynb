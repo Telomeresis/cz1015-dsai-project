{
 "cells": [
  {
   "cell_type": "code",
   "execution_count": 55,
   "metadata": {},
   "outputs": [],
   "source": [
    "# Basic Libraries\n",
    "import numpy as np\n",
    "import pandas as pd\n",
    "import seaborn as sb\n",
    "import matplotlib.pyplot as plt # we only need pyplot\n",
    "sb.set() # set the default Seaborn style for graphics\n",
    "\n",
    "# Import essential models and functions from sklearn\n",
    "from sklearn.linear_model import LinearRegression\n",
    "from sklearn.model_selection import train_test_split\n",
    "from sklearn.metrics import mean_squared_error"
   ]
  },
  {
   "cell_type": "markdown",
   "metadata": {},
   "source": [
    "Response Variable :\n",
    "- **Happiness**     \n",
    "\n",
    "Predictor Features : \n",
    "- **Log GDP per capita (PPP)**\n",
    "\n",
    "- **Log Healthy life expectancy at birth**\n",
    "\n",
    "- **Social Support**\n",
    "\n",
    "- **Life Choice Freedom**\n",
    "\n",
    "- **Generosity**\n",
    "\n",
    "- **Corruption Perception**       \n",
    "\n",
    "> Regression Model : Total = $a_1$ $\\times$ `Log GDP per capita (PPP)` + $a_2$ $\\times$ `Log Healthy life expectancy at birth` + $a_3$ $\\times$ `Social Support` + $a_4$ $\\times$ `Life Choice Freedom` + $a_5$ $\\times$ `Generosity` + $a_6$ $\\times$ `Corruption Perception` + $b$  "
   ]
  },
  {
   "cell_type": "code",
   "execution_count": 81,
   "metadata": {},
   "outputs": [],
   "source": [
    "# Uses values provided from World Happiness Report\n",
    "predictors = [\"Life Ladder\", \"Log GDP per capita (PPP)\", \"Social Support\", \"Log Healthy life expectancy at birth\", \"Freedom to make life choices\", \"Generosity\", \"Perceptions of corruption\"]"
   ]
  },
  {
   "cell_type": "code",
   "execution_count": 82,
   "metadata": {},
   "outputs": [],
   "source": [
    "# Import into pandas dataframe\n",
    "data16 = pd.read_excel('16raw_datawig_imputed.xlsx')\n",
    "data17 = pd.read_excel('17raw_countries_dropped.xlsx')\n",
    "\n",
    "\n",
    "# Extract Response and Predictors FOR TRAIN (2016) DATA\n",
    "\n",
    "# Response\n",
    "y_2016 = pd.DataFrame(data16[\"Happiness\"]) \n",
    "\n",
    "# Predictor (created without happiness)\n",
    "X_2016 = pd.DataFrame(data16[predictors])\n",
    "\n",
    "# We do not have a split. Instead, our train is:\n",
    "y_train = y_2016;\n",
    "X_train = X_2016;\n",
    "\n",
    "\n",
    "\n",
    "# Extract Response and Predictors FOR TEST (2017) DATA\n",
    "\n",
    "# Response\n",
    "y_2017 = pd.DataFrame(data17[\"Happiness\"]) \n",
    "\n",
    "# Predictor (created without life ladder)\n",
    "X_2017 = pd.DataFrame(data17[predictors])\n",
    "\n",
    "# We do not have a split. Instead, our train is:\n",
    "y_test = y_2017;\n",
    "X_test = X_2017;"
   ]
  },
  {
   "cell_type": "code",
   "execution_count": 83,
   "metadata": {},
   "outputs": [
    {
     "name": "stdout",
     "output_type": "stream",
     "text": [
      "Intercept of Regression \t: b =  [-1.45044452]\n",
      "Coefficients of Regression \t: a =  [[ 0.83276707  0.05790567  0.47318523  0.39131398 -0.02665235  0.24261347\n",
      "  -0.21187734]]\n",
      "\n"
     ]
    },
    {
     "data": {
      "text/html": [
       "<div>\n",
       "<style scoped>\n",
       "    .dataframe tbody tr th:only-of-type {\n",
       "        vertical-align: middle;\n",
       "    }\n",
       "\n",
       "    .dataframe tbody tr th {\n",
       "        vertical-align: top;\n",
       "    }\n",
       "\n",
       "    .dataframe thead th {\n",
       "        text-align: right;\n",
       "    }\n",
       "</style>\n",
       "<table border=\"1\" class=\"dataframe\">\n",
       "  <thead>\n",
       "    <tr style=\"text-align: right;\">\n",
       "      <th></th>\n",
       "      <th>Predictors</th>\n",
       "      <th>Coefficients</th>\n",
       "    </tr>\n",
       "  </thead>\n",
       "  <tbody>\n",
       "    <tr>\n",
       "      <th>0</th>\n",
       "      <td>Life Ladder</td>\n",
       "      <td>0.832767</td>\n",
       "    </tr>\n",
       "    <tr>\n",
       "      <th>1</th>\n",
       "      <td>Log GDP per capita (PPP)</td>\n",
       "      <td>0.057906</td>\n",
       "    </tr>\n",
       "    <tr>\n",
       "      <th>2</th>\n",
       "      <td>Social Support</td>\n",
       "      <td>0.473185</td>\n",
       "    </tr>\n",
       "    <tr>\n",
       "      <th>3</th>\n",
       "      <td>Log Healthy life expectancy at birth</td>\n",
       "      <td>0.391314</td>\n",
       "    </tr>\n",
       "    <tr>\n",
       "      <th>4</th>\n",
       "      <td>Freedom to make life choices</td>\n",
       "      <td>-0.026652</td>\n",
       "    </tr>\n",
       "    <tr>\n",
       "      <th>5</th>\n",
       "      <td>Generosity</td>\n",
       "      <td>0.242613</td>\n",
       "    </tr>\n",
       "    <tr>\n",
       "      <th>6</th>\n",
       "      <td>Perceptions of corruption</td>\n",
       "      <td>-0.211877</td>\n",
       "    </tr>\n",
       "  </tbody>\n",
       "</table>\n",
       "</div>"
      ],
      "text/plain": [
       "                             Predictors  Coefficients\n",
       "0                           Life Ladder      0.832767\n",
       "1              Log GDP per capita (PPP)      0.057906\n",
       "2                        Social Support      0.473185\n",
       "3  Log Healthy life expectancy at birth      0.391314\n",
       "4          Freedom to make life choices     -0.026652\n",
       "5                            Generosity      0.242613\n",
       "6             Perceptions of corruption     -0.211877"
      ]
     },
     "execution_count": 83,
     "metadata": {},
     "output_type": "execute_result"
    }
   ],
   "source": [
    "# Linear Regression using Train (2016) Data\n",
    "linreg = LinearRegression()         # create the linear regression object\n",
    "linreg.fit(X_train, y_train)        # train the linear regression model\n",
    "\n",
    "# Coefficients of the Linear Regression line\n",
    "print('Intercept of Regression \\t: b = ', linreg.intercept_)\n",
    "print('Coefficients of Regression \\t: a = ', linreg.coef_) #note that a = m = gradient = beta coefficient\n",
    "print()\n",
    "\n",
    "# Print the Coefficients against Predictors (in a nice table format)\n",
    "pd.DataFrame(list(zip(X_train.columns, linreg.coef_[0])), columns = [\"Predictors\", \"Coefficients\"])"
   ]
  },
  {
   "cell_type": "code",
   "execution_count": 92,
   "metadata": {},
   "outputs": [
    {
     "data": {
      "image/png": "[encoded data removed]",
      "text/plain": [
       "<Figure size 1728x864 with 2 Axes>"
      ]
     },
     "metadata": {},
     "output_type": "display_data"
    },
    {
     "name": "stdout",
     "output_type": "stream",
     "text": [
      "Goodness of Fit of Model \tTrain (2016) Dataset\n",
      "Explained Variance (R^2) \t: 0.9664553296621778\n",
      "Mean Squared Error (MSE) \t: 0.04246600833134514\n",
      "\n",
      "Goodness of Fit of Model \tTest (2018) Dataset\n",
      "Explained Variance (R^2) \t: 0.9532415571579852\n",
      "Mean Squared Error (MSE) \t: 0.05757036698076433\n",
      "\n"
     ]
    }
   ],
   "source": [
    "# Predict Response corresponding to Predictors\n",
    "y_train_pred = linreg.predict(X_train)\n",
    "y_test_pred = linreg.predict(X_test)\n",
    "\n",
    "# Plot the Predictions vs the True values\n",
    "f, axes = plt.subplots(1, 2, figsize=(24, 12))\n",
    "axes[0].scatter(y_train, y_train_pred, color = \"grey\")\n",
    "axes[0].plot(y_train, y_train, 'w-', linewidth = 1)\n",
    "axes[0].set_xlabel(\"Actual Happiness (2016)\")\n",
    "axes[0].set_ylabel(\"Predicted Happiness (2016)\")\n",
    "axes[1].scatter(y_test, y_test_pred, color = \"red\")\n",
    "axes[1].plot(y_test, y_test, 'w-', linewidth = 1)\n",
    "axes[1].set_xlabel(\"Actual Happiness (2017)\")\n",
    "axes[1].set_ylabel(\"Predicted Happiness (2017)\")\n",
    "plt.show()\n",
    "\n",
    "# Check the Goodness of Fit (on Train (2016) Data)\n",
    "print(\"Goodness of Fit of Model \\tTrain (2016) Dataset\")\n",
    "print(\"Explained Variance (R^2) \\t:\", linreg.score(X_train, y_train))\n",
    "print(\"Mean Squared Error (MSE) \\t:\", mean_squared_error(y_train, y_train_pred))\n",
    "print()\n",
    "\n",
    "# Check the Goodness of Fit (on Test (2017) Data)\n",
    "print(\"Goodness of Fit of Model \\tTest (2018) Dataset\")\n",
    "print(\"Explained Variance (R^2) \\t:\", linreg.score(X_test, y_test))\n",
    "print(\"Mean Squared Error (MSE) \\t:\", mean_squared_error(y_test, y_test_pred))\n",
    "print()"
   ]
  },
  {
   "cell_type": "markdown",
   "metadata": {},
   "source": [
    "#### Prediction of Total\n",
    "\n",
    "Let's predict the value of **Happiness** for all countries --\n",
    "\n",
    "-- using the Regression Model derived from 2016.   "
   ]
  },
  {
   "cell_type": "code",
   "execution_count": 94,
   "metadata": {},
   "outputs": [],
   "source": [
    "# Extract target Countries for Prediction [THIS IS THE TARGET COUNTRIES, IN THIS CASE 2017]\n",
    "data17_pred = data17[data17[\"Missing\"].isin([\"0\"])] #this extracts all countries from the 17 dataset\n",
    "# potentially can turn this into a web app\n",
    "\n",
    "# Extract Predictors for Prediction [THIS IS THE LINEAR REGRESSION PREDICTOR STEP]\n",
    "X_pred = pd.DataFrame(data17_pred[predictors]) #[predictors] is simply to define which columns we use.Technically, can be either 16 or 18, doesn't matter\n",
    "\n",
    "# Predict Response corresponding to Predictors\n",
    "y_pred = linreg.predict(X_pred) # we call lingreg here. This previously-created linreg is based off the state of the world in 2016.\n",
    "#y_pred #this generates an array of the predicted values for 2018."
   ]
  },
  {
   "cell_type": "code",
   "execution_count": 95,
   "metadata": {},
   "outputs": [],
   "source": [
    "# Summarize the Actuals, Predictions and Errors\n",
    "\n",
    "#The y_pred is the \"PredHappiness\"\n",
    "\n",
    "# Creates a data frame containing new column + corresponding data in the data frame for predicted happiness.\n",
    "y_pred = pd.DataFrame(y_pred, columns = [\"PredHappiness\"], index = data17_pred.index)\n",
    "# Quite simply code to concact the new data frame with the extracted 3 countries data frame. Note how the n-dimensions are cut.\n",
    "data17_acc = pd.concat([data17_pred[[\"Country\", \"Happiness\"]], y_pred], axis = 1)\n",
    "\n",
    "# Code to generate error between the actual happiness and the predicted happiness.\n",
    "y_errs = 100 * abs(data17_acc[\"Happiness\"] - data17_acc[\"PredHappiness\"]) / data17_acc[\"Happiness\"]\n",
    "# Code to generate dataframe to the existing data frame\n",
    "y_errs = pd.DataFrame(y_errs, columns = [\"Error\"], index = data17_pred.index)\n",
    "# Code to concat error dataframe to the existing data frame\n",
    "data17_acc = pd.concat([data17_acc, y_errs], axis = 1)"
   ]
  },
  {
   "cell_type": "code",
   "execution_count": 96,
   "metadata": {},
   "outputs": [
    {
     "name": "stdout",
     "output_type": "stream",
     "text": [
      "                    Country  Happiness  PredHappiness      Error\n",
      "0               Afghanistan     3.6315       2.739738  24.556311\n",
      "1                   Albania     4.5860       4.700780   2.502832\n",
      "2                   Algeria     5.2946       5.285404   0.173690\n",
      "3                 Argentina     6.3880       5.980859   6.373530\n",
      "4                   Armenia     4.3206       4.376273   1.288557\n",
      "5                 Australia     7.2721       7.302284   0.415069\n",
      "6                   Austria     7.1394       7.245128   1.480909\n",
      "7                Azerbaijan     5.2006       5.175587   0.480970\n",
      "8                Bangladesh     4.5004       4.412447   1.954333\n",
      "9                   Belarus     5.4833       5.618885   2.472683\n",
      "10                  Belgium     6.9269       6.919935   0.100555\n",
      "11                    Benin     4.1414       4.592270  10.886902\n",
      "12                  Bolivia     5.7519       5.514188   4.132763\n",
      "13   Bosnia and Herzegovina     5.1294       5.159986   0.596300\n",
      "14                 Botswana     3.5898       3.742156   4.244138\n",
      "15                   Brazil     6.4189       6.206438   3.309943\n",
      "16                 Bulgaria     4.9331       5.200273   5.415925\n",
      "17             Burkina Faso     4.4244       4.587412   3.684393\n",
      "18                 Cambodia     4.4326       4.620039   4.228650\n",
      "19                 Cameroon     4.9753       4.899625   1.521016\n",
      "20                     Chad     4.3006       4.405519   2.439627\n",
      "21                    Chile     6.4762       6.263865   3.278692\n",
      "22                 Colombia     6.2601       6.037300   3.559042\n",
      "23      Congo (Brazzaville)     4.5587       4.769491   4.623917\n",
      "24               Costa Rica     7.0717       7.023107   0.687146\n",
      "25                  Croatia     5.3212       5.354465   0.625151\n",
      "26           Czech Republic     6.7109       6.651824   0.880302\n",
      "27                  Denmark     7.5553       7.589396   0.451286\n",
      "28       Dominican Republic     5.3018       5.605739   5.732753\n",
      "29                  Ecuador     5.9732       5.775553   3.308900\n",
      "..                      ...        ...            ...        ...\n",
      "76                 Pakistan     5.4725       5.647601   3.199653\n",
      "77                   Panama     6.4300       6.439087   0.141331\n",
      "78                     Peru     5.6632       5.627068   0.638019\n",
      "79              Philippines     5.5241       5.521179   0.052878\n",
      "80                 Portugal     5.4104       5.743827   6.162714\n",
      "81                  Romania     5.9452       5.971777   0.447028\n",
      "82                   Russia     5.8097       5.585088   3.866152\n",
      "83                  Senegal     4.6311       4.642287   0.241565\n",
      "84                   Serbia     5.3982       5.206057   3.559400\n",
      "85             Sierra Leone     4.5706       3.991032  12.680343\n",
      "86                 Slovakia     6.1734       6.304020   2.115854\n",
      "87                 Slovenia     5.9476       6.183293   3.962828\n",
      "88             South Africa     4.7240       4.596567   2.697575\n",
      "89              South Korea     5.8749       5.921069   0.785868\n",
      "90                    Spain     6.3099       6.258887   0.808460\n",
      "91                   Sweden     7.3145       7.314983   0.006607\n",
      "92              Switzerland     7.4873       7.486002   0.017332\n",
      "93                 Tanzania     3.3035       3.573612   8.176536\n",
      "94                 Thailand     6.0723       5.950603   2.004130\n",
      "95                     Togo     3.9985       4.207427   5.225129\n",
      "96                  Tunisia     4.5924       4.247099   7.518959\n",
      "97                   Turkey     5.4825       5.638817   2.851193\n",
      "98                   Uganda     4.1608       4.030545   3.130531\n",
      "99                  Ukraine     4.1029       4.476920   9.115996\n",
      "100          United Kingdom     6.8143       7.153098   4.971864\n",
      "101           United States     6.8860       6.976841   1.319204\n",
      "102                 Uruguay     6.3788       6.303899   1.174222\n",
      "103              Uzbekistan     6.0961       6.375601   4.584917\n",
      "104                  Zambia     4.3771       4.064465   7.142524\n",
      "105                Zimbabwe     3.6923       3.728745   0.987049\n",
      "\n",
      "[106 rows x 4 columns]\n"
     ]
    }
   ],
   "source": [
    "print(data17_acc)"
   ]
  },
  {
   "cell_type": "code",
   "execution_count": 97,
   "metadata": {},
   "outputs": [
    {
     "data": {
      "text/html": [
       "<div>\n",
       "<style scoped>\n",
       "    .dataframe tbody tr th:only-of-type {\n",
       "        vertical-align: middle;\n",
       "    }\n",
       "\n",
       "    .dataframe tbody tr th {\n",
       "        vertical-align: top;\n",
       "    }\n",
       "\n",
       "    .dataframe thead th {\n",
       "        text-align: right;\n",
       "    }\n",
       "</style>\n",
       "<table border=\"1\" class=\"dataframe\">\n",
       "  <thead>\n",
       "    <tr style=\"text-align: right;\">\n",
       "      <th></th>\n",
       "      <th>Happiness</th>\n",
       "      <th>PredHappiness</th>\n",
       "      <th>Error</th>\n",
       "    </tr>\n",
       "  </thead>\n",
       "  <tbody>\n",
       "    <tr>\n",
       "      <th>count</th>\n",
       "      <td>106.000000</td>\n",
       "      <td>106.000000</td>\n",
       "      <td>106.000000</td>\n",
       "    </tr>\n",
       "    <tr>\n",
       "      <th>mean</th>\n",
       "      <td>5.462134</td>\n",
       "      <td>5.515860</td>\n",
       "      <td>3.645559</td>\n",
       "    </tr>\n",
       "    <tr>\n",
       "      <th>std</th>\n",
       "      <td>1.114879</td>\n",
       "      <td>1.101592</td>\n",
       "      <td>4.144572</td>\n",
       "    </tr>\n",
       "    <tr>\n",
       "      <th>min</th>\n",
       "      <td>3.303500</td>\n",
       "      <td>2.739738</td>\n",
       "      <td>0.004498</td>\n",
       "    </tr>\n",
       "    <tr>\n",
       "      <th>25%</th>\n",
       "      <td>4.514975</td>\n",
       "      <td>4.602435</td>\n",
       "      <td>0.906989</td>\n",
       "    </tr>\n",
       "    <tr>\n",
       "      <th>50%</th>\n",
       "      <td>5.404300</td>\n",
       "      <td>5.549538</td>\n",
       "      <td>2.820027</td>\n",
       "    </tr>\n",
       "    <tr>\n",
       "      <th>75%</th>\n",
       "      <td>6.297450</td>\n",
       "      <td>6.236360</td>\n",
       "      <td>4.420278</td>\n",
       "    </tr>\n",
       "    <tr>\n",
       "      <th>max</th>\n",
       "      <td>7.632100</td>\n",
       "      <td>7.708441</td>\n",
       "      <td>24.556311</td>\n",
       "    </tr>\n",
       "  </tbody>\n",
       "</table>\n",
       "</div>"
      ],
      "text/plain": [
       "        Happiness  PredHappiness       Error\n",
       "count  106.000000     106.000000  106.000000\n",
       "mean     5.462134       5.515860    3.645559\n",
       "std      1.114879       1.101592    4.144572\n",
       "min      3.303500       2.739738    0.004498\n",
       "25%      4.514975       4.602435    0.906989\n",
       "50%      5.404300       5.549538    2.820027\n",
       "75%      6.297450       6.236360    4.420278\n",
       "max      7.632100       7.708441   24.556311"
      ]
     },
     "execution_count": 97,
     "metadata": {},
     "output_type": "execute_result"
    }
   ],
   "source": [
    "# Summary Statistics for all Variables\n",
    "data17_acc.describe()"
   ]
  },
  {
   "cell_type": "code",
   "execution_count": 126,
   "metadata": {},
   "outputs": [
    {
     "data": {
      "image/png": "[encoded data removed]",
      "text/plain": [
       "<Figure size 1728x864 with 1 Axes>"
      ]
     },
     "metadata": {},
     "output_type": "display_data"
    }
   ],
   "source": [
    "f, axes = plt.subplots(1, 1, figsize=(24, 12))\n",
    "ax = sb.boxplot(data = data17_acc, orient = \"h\", color=\"grey\")\n",
    "\n",
    "# Select which box you want to change    \n",
    "bplot = ax.artists[2]\n",
    "\n",
    "# Change the appearance of that box\n",
    "bplot.set_facecolor('red')\n",
    "#bplot.set_edgecolor('black')\n",
    "#bplot.set_linewidth(3)\n",
    "\n",
    "plt.show()"
   ]
  },
  {
   "cell_type": "code",
   "execution_count": 90,
   "metadata": {},
   "outputs": [],
   "source": [
    "#Outputs to excel with imputed values\n",
    "export_excel = data17_acc.to_excel (r'C:\\Users\\SAMARITAN\\Documents\\Jupyter_Thunder\\Final_Project\\linreg_predicted17_values.xlsx', index = None, header=True) #Don't forget to add '.xlsx' at the end of the path"
   ]
  },
  {
   "cell_type": "code",
   "execution_count": null,
   "metadata": {},
   "outputs": [],
   "source": []
  }
 ],
 "metadata": {
  "kernelspec": {
   "display_name": "Python 3",
   "language": "python",
   "name": "python3"
  },
  "language_info": {
   "codemirror_mode": {
    "name": "ipython",
    "version": 3
   },
   "file_extension": ".py",
   "mimetype": "text/x-python",
   "name": "python",
   "nbconvert_exporter": "python",
   "pygments_lexer": "ipython3",
   "version": "3.7.1"
  }
 },
 "nbformat": 4,
 "nbformat_minor": 2
}
