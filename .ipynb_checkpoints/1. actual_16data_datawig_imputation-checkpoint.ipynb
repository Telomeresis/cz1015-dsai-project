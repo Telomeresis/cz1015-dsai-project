{
 "cells": [
  {
   "cell_type": "code",
   "execution_count": null,
   "metadata": {},
   "outputs": [],
   "source": [
    "# Specific Libraries\n",
    "import datawig\n",
    "\n",
    "# Basic Libraries\n",
    "import numpy as np\n",
    "import pandas as pd\n",
    "import seaborn as sb\n",
    "import matplotlib.pyplot as plt # we only need pyplot\n",
    "sb.set() # set the default Seaborn style for graphics"
   ]
  },
  {
   "cell_type": "code",
   "execution_count": null,
   "metadata": {},
   "outputs": [],
   "source": [
    "# Import into pandas dataframe\n",
    "df = pd.read_excel('16raw.xlsx')\n",
    "        \n",
    "df_train = df.loc[df['Missing'] == 0]\n",
    "df_test = df.loc[df['Missing'] == 1]"
   ]
  },
  {
   "cell_type": "code",
   "execution_count": null,
   "metadata": {},
   "outputs": [],
   "source": [
    "# Uses values provided from World Happiness Report\n",
    "predictors = [\"Life Ladder\",\"Log GDP per capita\", \"Social Support\", \"Healthy life expectancy at birth\", \"Freedom to make life choices\", \"Generosity\", \"Perceptions of corruption\", \"Happiness\"]"
   ]
  },
  {
   "cell_type": "code",
   "execution_count": null,
   "metadata": {},
   "outputs": [],
   "source": [
    "array = np.array(predictors)"
   ]
  },
  {
   "cell_type": "markdown",
   "metadata": {},
   "source": [
    "# 1. `Log GDP (PPP)` Imputation"
   ]
  },
  {
   "cell_type": "code",
   "execution_count": null,
   "metadata": {},
   "outputs": [],
   "source": [
    "#Initialize a SimpleImputer model\n",
    "imputer = datawig.SimpleImputer(\n",
    "    input_columns=predictors, # column(s) containing information about the column we want to impute\n",
    "    output_column='Log GDP per capita', # the column we'd like to impute values for\n",
    "    output_path = 'imputer_model' # stores model data and metrics\n",
    "    )\n",
    "\n",
    "#Fit an imputer model on the train data\n",
    "imputer.fit(train_df=df_train, num_epochs=50)\n",
    "\n",
    "#Impute missing values and return original dataframe with predictions\n",
    "imputed = imputer.predict(df_test)\n",
    "\n",
    "outputdf = imputed[['Country','Log GDP per capita','Log GDP per capita_imputed']]\n",
    "\n",
    "# Code to generate error between `Log GDP per capita` and the `imputed Log GDP per capita`.\n",
    "y_errs = 100 * abs(imputed[\"Log GDP per capita\"] - imputed[\"Log GDP per capita_imputed\"]) / imputed[\"Log GDP per capita\"]\n",
    "# Code to generate dataframe to the existing data frame\n",
    "y_errs = pd.DataFrame(y_errs, columns = [\"Error\"], index = outputdf.index)\n",
    "# Code to concat error dataframe to the existing data frame\n",
    "outputdf_final = pd.concat([outputdf, y_errs], axis = 1)\n",
    "\n",
    "#Print output\n",
    "outputdf_final\n",
    "\n",
    "#Outputs to excel with imputed values\n",
    "export_excel = outputdf_final.to_excel (r'C:\\Users\\SAMARITAN\\Documents\\Jupyter_Thunder\\Final_Project\\1. Log GDP per capita_imputed.xlsx', index = None, header=True) #Don't forget to add '.xlsx' at the end of the path"
   ]
  },
  {
   "cell_type": "markdown",
   "metadata": {},
   "source": [
    "# 2. `Social Support` Imputation\n",
    "Not required, because all data is available."
   ]
  },
  {
   "cell_type": "markdown",
   "metadata": {},
   "source": [
    "# 3. Healthy life expectancy at birth Imputation"
   ]
  },
  {
   "cell_type": "code",
   "execution_count": null,
   "metadata": {},
   "outputs": [],
   "source": [
    "#Initialize a SimpleImputer model\n",
    "imputer = datawig.SimpleImputer(\n",
    "    input_columns=predictors, # column(s) containing information about the column we want to impute\n",
    "    output_column='Healthy life expectancy at birth', # the column we'd like to impute values for\n",
    "    output_path = 'imputer_model' # stores model data and metrics\n",
    "    )\n",
    "\n",
    "#Fit an imputer model on the train data\n",
    "imputer.fit(train_df=df_train, num_epochs=50)\n",
    "\n",
    "#Impute missing values and return original dataframe with predictions\n",
    "imputed = imputer.predict(df_test)\n",
    "\n",
    "outputdf = imputed[['Country','Healthy life expectancy at birth','Healthy life expectancy at birth_imputed']]\n",
    "\n",
    "# Code to generate error between `Healthy life expectancy at birth` and the `imputed Healthy life expectancy at birth`.\n",
    "y_errs = 100 * abs(imputed[\"Healthy life expectancy at birth\"] - imputed[\"Healthy life expectancy at birth_imputed\"]) / imputed[\"Healthy life expectancy at birth\"]\n",
    "y_errs = pd.DataFrame(y_errs, columns = [\"Error\"], index = outputdf.index)\n",
    "# Code to concat error dataframe to the existing data frame\n",
    "outputdf_final = pd.concat([outputdf, y_errs], axis = 1)\n",
    "\n",
    "#Print output\n",
    "outputdf_final\n",
    "\n",
    "#Outputs to excel with imputed values\n",
    "export_excel = outputdf_final.to_excel (r'C:\\Users\\SAMARITAN\\Documents\\Jupyter_Thunder\\Final_Project\\3. Healthy life expectancy at birth_imputed.xlsx', index = None, header=True) #Don't forget to add '.xlsx' at the end of the path"
   ]
  },
  {
   "cell_type": "markdown",
   "metadata": {},
   "source": [
    "# 4. `Freedom to make life choices` Imputation"
   ]
  },
  {
   "cell_type": "code",
   "execution_count": null,
   "metadata": {},
   "outputs": [],
   "source": [
    "#Initialize a SimpleImputer model\n",
    "imputer = datawig.SimpleImputer(\n",
    "    input_columns=predictors, # column(s) containing information about the column we want to impute\n",
    "    output_column='Freedom to make life choices', # the column we'd like to impute values for\n",
    "    output_path = 'imputer_model' # stores model data and metrics\n",
    "    )\n",
    "\n",
    "#Fit an imputer model on the train data\n",
    "imputer.fit(train_df=df_train, num_epochs=50)\n",
    "\n",
    "#Impute missing values and return original dataframe with predictions\n",
    "imputed = imputer.predict(df_test)\n",
    "\n",
    "outputdf = imputed[['Country','Freedom to make life choices','Freedom to make life choices_imputed']]\n",
    "\n",
    "# Code to generate error between `Freedom to make life choices` and the `imputed Freedom to make life choices`.\n",
    "y_errs = 100 * abs(imputed[\"Freedom to make life choices\"] - imputed[\"Freedom to make life choices_imputed\"]) / imputed[\"Freedom to make life choices\"]\n",
    "y_errs = pd.DataFrame(y_errs, columns = [\"Error\"], index = outputdf.index)\n",
    "# Code to concat error dataframe to the existing data frame\n",
    "outputdf_final = pd.concat([outputdf, y_errs], axis = 1)\n",
    "\n",
    "#Print output\n",
    "outputdf_final\n",
    "\n",
    "#Outputs to excel with imputed values\n",
    "export_excel = outputdf_final.to_excel (r'C:\\Users\\SAMARITAN\\Documents\\Jupyter_Thunder\\Final_Project\\4. Freedom to make life choices_imputed.xlsx', index = None, header=True) #Don't forget to add '.xlsx' at the end of the path"
   ]
  },
  {
   "cell_type": "markdown",
   "metadata": {},
   "source": [
    "# 5. 'Generosity' Imputation"
   ]
  },
  {
   "cell_type": "code",
   "execution_count": null,
   "metadata": {},
   "outputs": [],
   "source": [
    "#Initialize a SimpleImputer model\n",
    "imputer = datawig.SimpleImputer(\n",
    "    input_columns=predictors, # column(s) containing information about the column we want to impute\n",
    "    output_column='Generosity', # the column we'd like to impute values for\n",
    "    output_path = 'imputer_model' # stores model data and metrics\n",
    "    )\n",
    "\n",
    "#Fit an imputer model on the train data\n",
    "imputer.fit(train_df=df_train, num_epochs=50)\n",
    "\n",
    "#Impute missing values and return original dataframe with predictions\n",
    "imputed = imputer.predict(df_test)\n",
    "\n",
    "outputdf = imputed[['Country','Generosity','Generosity_imputed']]\n",
    "\n",
    "# Code to generate error between `Generosity` and the `imputed Generosity`.\n",
    "y_errs = 100 * abs(imputed[\"Generosity\"] - imputed[\"Generosity_imputed\"]) / imputed[\"Generosity\"]\n",
    "y_errs = pd.DataFrame(y_errs, columns = [\"Error\"], index = outputdf.index)\n",
    "# Code to concat error dataframe to the existing data frame\n",
    "outputdf_final = pd.concat([outputdf, y_errs], axis = 1)\n",
    "\n",
    "#Print output\n",
    "outputdf_final\n",
    "\n",
    "#Outputs to excel with imputed values\n",
    "export_excel = outputdf_final.to_excel (r'C:\\Users\\SAMARITAN\\Documents\\Jupyter_Thunder\\Final_Project\\5. Generosity_imputed.xlsx', index = None, header=True) #Don't forget to add '.xlsx' at the end of the path"
   ]
  },
  {
   "cell_type": "markdown",
   "metadata": {},
   "source": [
    "# 6. 'Perceptions of corruption' Imputation"
   ]
  },
  {
   "cell_type": "code",
   "execution_count": null,
   "metadata": {},
   "outputs": [],
   "source": [
    "#Initialize a SimpleImputer model\n",
    "imputer = datawig.SimpleImputer(\n",
    "    input_columns=predictors, # column(s) containing information about the column we want to impute\n",
    "    output_column='Perceptions of corruption', # the column we'd like to impute values for\n",
    "    output_path = 'imputer_model' # stores model data and metrics\n",
    "    )\n",
    "\n",
    "#Fit an imputer model on the train data\n",
    "imputer.fit(train_df=df_train, num_epochs=50)\n",
    "\n",
    "#Impute missing values and return original dataframe with predictions\n",
    "imputed = imputer.predict(df_test)\n",
    "\n",
    "outputdf = imputed[['Country','Perceptions of corruption','Perceptions of corruption_imputed']]\n",
    "\n",
    "# Code to generate error between `Perceptions of corruption` and the `imputed Perceptions of corruption`.\n",
    "y_errs = 100 * abs(imputed[\"Perceptions of corruption\"] - imputed[\"Perceptions of corruption_imputed\"]) / imputed[\"Perceptions of corruption\"]\n",
    "y_errs = pd.DataFrame(y_errs, columns = [\"Error\"], index = outputdf.index)\n",
    "# Code to concat error dataframe to the existing data frame\n",
    "outputdf_final = pd.concat([outputdf, y_errs], axis = 1)\n",
    "\n",
    "#Print output\n",
    "outputdf_final\n",
    "\n",
    "#Outputs to excel with imputed values\n",
    "export_excel = outputdf_final.to_excel (r'C:\\Users\\SAMARITAN\\Documents\\Jupyter_Thunder\\Final_Project\\6. Perceptions of corruption_imputed.xlsx', index = None, header=True) #Don't forget to add '.xlsx' at the end of the path"
   ]
  },
  {
   "cell_type": "markdown",
   "metadata": {},
   "source": [
    "# 7. 'Happiness' Imputation\n",
    "For `Hong Kong`."
   ]
  },
  {
   "cell_type": "code",
   "execution_count": null,
   "metadata": {},
   "outputs": [],
   "source": [
    "#Initialize a SimpleImputer model\n",
    "imputer = datawig.SimpleImputer(\n",
    "    input_columns=predictors, # column(s) containing information about the column we want to impute\n",
    "    output_column='Happiness', # the column we'd like to impute values for\n",
    "    output_path = 'imputer_model' # stores model data and metrics\n",
    "    )\n",
    "\n",
    "#Fit an imputer model on the train data\n",
    "imputer.fit(train_df=df_train, num_epochs=50)\n",
    "\n",
    "#Impute missing values and return original dataframe with predictions\n",
    "imputed = imputer.predict(df_test)\n",
    "\n",
    "outputdf = imputed[['Country','Happiness','Happiness_imputed']]\n",
    "\n",
    "# Code to generate error between `Happiness` and the `imputed Happiness`.\n",
    "y_errs = 100 * abs(imputed[\"Happiness\"] - imputed[\"Happiness_imputed\"]) / imputed[\"Happiness\"]\n",
    "y_errs = pd.DataFrame(y_errs, columns = [\"Error\"], index = outputdf.index)\n",
    "# Code to concat error dataframe to the existing data frame\n",
    "outputdf_final = pd.concat([outputdf, y_errs], axis = 1)\n",
    "\n",
    "#Print output\n",
    "outputdf_final\n",
    "\n",
    "#Outputs to excel with imputed values\n",
    "export_excel = outputdf_final.to_excel (r'C:\\Users\\SAMARITAN\\Documents\\Jupyter_Thunder\\Final_Project\\7. Happiness_imputed.xlsx', index = None, header=True) #Don't forget to add '.xlsx' at the end of the path"
   ]
  },
  {
   "cell_type": "code",
   "execution_count": null,
   "metadata": {},
   "outputs": [],
   "source": []
  }
 ],
 "metadata": {
  "kernelspec": {
   "display_name": "Python 3",
   "language": "python",
   "name": "python3"
  },
  "language_info": {
   "codemirror_mode": {
    "name": "ipython",
    "version": 3
   },
   "file_extension": ".py",
   "mimetype": "text/x-python",
   "name": "python",
   "nbconvert_exporter": "python",
   "pygments_lexer": "ipython3",
   "version": "3.7.1"
  }
 },
 "nbformat": 4,
 "nbformat_minor": 2
}
